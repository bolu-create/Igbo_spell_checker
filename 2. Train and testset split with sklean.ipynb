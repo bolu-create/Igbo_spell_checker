{
 "cells": [
  {
   "cell_type": "code",
   "execution_count": 1,
   "metadata": {},
   "outputs": [
    {
     "data": {
      "text/plain": [
       "'iji ubube eme ihe ì na eme nnyocha ndị a iji zere mmerụ ahụ \\nsite n’aka onye nta akụkọ teta \\nna irel'"
      ]
     },
     "execution_count": 1,
     "metadata": {},
     "output_type": "execute_result"
    }
   ],
   "source": [
    "file= open(\"my_corpus.txt\", encoding=\"utf8\")\n",
    "file_read= file.read()\n",
    "my_corpus= file_read\n",
    "#corpus= cleaned_file.split()\n",
    "#my_file= list(set(file_to_count))\n",
    "my_corpus[:100]\n"
   ]
  },
  {
   "cell_type": "code",
   "execution_count": 13,
   "metadata": {},
   "outputs": [],
   "source": [
    "import random\n",
    "\n",
    "# Assume your corpus is stored in a variable called 'corpus'\n",
    "# and it's a list of sentences\n",
    "\n",
    "# Set the test set size as 30% of the total data\n",
    "test_size = 0.3\n",
    "\n",
    "corpus= my_corpus.split(\"\\n\")\n",
    "\n",
    "# Shuffle the data\n",
    "random.shuffle(corpus)\n",
    "\n",
    "# Split the data into train and test sets\n",
    "split_index = int(len(corpus) * (1 - test_size))\n",
    "X_train = corpus[:split_index]\n",
    "X_test = corpus[split_index:]\n",
    "train_data= \"\\n\".join(X_train)\n",
    "test_data= \"\\n\".join(X_test)"
   ]
  },
  {
   "cell_type": "code",
   "execution_count": 25,
   "metadata": {},
   "outputs": [
    {
     "name": "stdout",
     "output_type": "stream",
     "text": [
      "No. x+y: 31740559, z: 31740560\n"
     ]
    }
   ],
   "source": [
    "len(X_train)\n",
    "len(X_test)\n",
    "#len(corpus)\n",
    "z= len(my_corpus)\n",
    "x= len(train_data)\n",
    "y= len(test_data)\n",
    "\n",
    "if (x+y) == z:\n",
    "    print(\"Yes\")\n",
    "else:\n",
    "    print(f'No. x+y: {x+y}, z: {z}')\n",
    "\n",
    "#9534128\n",
    "#22206431\n",
    "#31740560"
   ]
  },
  {
   "cell_type": "code",
   "execution_count": 14,
   "metadata": {},
   "outputs": [],
   "source": [
    "file= open('train.ig.txt', 'w+', encoding='utf8')\n",
    "file.write(train_data)\n",
    "file.close()"
   ]
  },
  {
   "cell_type": "code",
   "execution_count": 15,
   "metadata": {},
   "outputs": [],
   "source": [
    "file= open('test.ig.txt', 'w+', encoding='utf8')\n",
    "file.write(test_data)\n",
    "file.close()"
   ]
  },
  {
   "cell_type": "markdown",
   "metadata": {},
   "source": [
    "## This section is for Araba dataset"
   ]
  },
  {
   "cell_type": "code",
   "execution_count": 21,
   "metadata": {},
   "outputs": [],
   "source": [
    "file= open(\"my_corpus_araba.txt\", encoding=\"utf8\")\n",
    "file_read= file.read()\n",
    "my_corpus= file_read\n",
    "#corpus= cleaned_file.split()\n",
    "#my_file= list(set(file_to_count))\n"
   ]
  },
  {
   "cell_type": "code",
   "execution_count": 22,
   "metadata": {},
   "outputs": [
    {
     "data": {
      "text/plain": [
       "4224967"
      ]
     },
     "execution_count": 22,
     "metadata": {},
     "output_type": "execute_result"
    }
   ],
   "source": [
    "import random\n",
    "\n",
    "# Assume your corpus is stored in a variable called 'corpus'\n",
    "# and it's a list of sentences\n",
    "\n",
    "# Set the test set size as 30% of the total data\n",
    "test_size = 0.9\n",
    "\n",
    "corpus= my_corpus.split(\"\\n\")\n",
    "\n",
    "# Shuffle the data\n",
    "#random.shuffle(corpus)\n",
    "\n",
    "# Split the data into train and test sets\n",
    "split_index = int(len(corpus) * (1 - test_size))\n",
    "X_train = corpus[:split_index]\n",
    "X_test = corpus[split_index:]\n",
    "train_data= \"\\n\".join(X_train)\n",
    "test_data= \"\\n\".join(X_test)\n",
    "\n",
    "len(train_data)\n",
    "#len(train_data)#36504826"
   ]
  },
  {
   "cell_type": "code",
   "execution_count": 23,
   "metadata": {},
   "outputs": [],
   "source": [
    "file= open('Araba_test.ig.txt', 'w+', encoding='utf8')\n",
    "file.write(train_data)\n",
    "file.close()"
   ]
  },
  {
   "cell_type": "markdown",
   "metadata": {},
   "source": [
    "## For English"
   ]
  },
  {
   "cell_type": "code",
   "execution_count": 1,
   "metadata": {},
   "outputs": [],
   "source": [
    "#file= open(\"my_corpus_araba_eng.txt\", encoding=\"utf8\")\n",
    "file= open(\"Cleaned.txt\", encoding=\"utf8\")\n",
    "file_read= file.read()\n",
    "my_corpus= file_read\n",
    "#corpus= cleaned_file.split()\n",
    "#my_file= list(set(file_to_count))\n"
   ]
  },
  {
   "cell_type": "code",
   "execution_count": 14,
   "metadata": {},
   "outputs": [
    {
     "name": "stdout",
     "output_type": "stream",
     "text": [
      "Train: 32429 \n",
      "Test:  3604\n",
      "Total: 36033\n"
     ]
    }
   ],
   "source": [
    "#Used to split corpus by words\n",
    "\n",
    "import random\n",
    "\n",
    "# Assume your corpus is stored in a variable called 'corpus'\n",
    "# and it's a list of sentences\n",
    "\n",
    "# Set the test set size as 30% of the total data\n",
    "test_size = 0.1\n",
    "\n",
    "corpus= my_corpus.split(\"\\n\")\n",
    "\n",
    "# Shuffle the data\n",
    "#random.shuffle(corpus)\n",
    "\n",
    "# Split the data into train and test sets\n",
    "split_index = int(len(corpus) * (1 - test_size))\n",
    "X_train = corpus[:split_index]\n",
    "X_test = corpus[split_index:]\n",
    "train_data= \"\\n\".join(X_train)\n",
    "test_data= \"\\n\".join(X_test)\n",
    "r= len(X_train)\n",
    "s= len(X_test)\n",
    "\n",
    "print(f\"Train: {r} \\nTest:  {s}\\nTotal: {r+s}\")\n",
    "#len(train_data)\n",
    "#len(train_data)#36504826"
   ]
  },
  {
   "cell_type": "code",
   "execution_count": 15,
   "metadata": {},
   "outputs": [],
   "source": [
    "#file= open('Araba_test.en.txt', 'w+', encoding='utf8')\n",
    "\n",
    "file= open('Cleaned10.txt', 'w+', encoding='utf8')\n",
    "file.write(test_data)\n",
    "file.close()"
   ]
  },
  {
   "cell_type": "code",
   "execution_count": 3,
   "metadata": {
    "scrolled": true
   },
   "outputs": [
    {
     "name": "stdout",
     "output_type": "stream",
     "text": [
      "lines= 337772\n",
      "words= 6036914\n",
      "chars=22288253\n"
     ]
    }
   ],
   "source": [
    "#fname = \"test.ig.txt\"\n",
    "#fname= \"my_corpus.txt\"\n",
    "#fname= \"jw300.ig.txt\"\n",
    "fname = \"train.ig.txt\"\n",
    "\n",
    "\n",
    "num_lines = 0\n",
    "num_words = 0\n",
    "num_chars = 0\n",
    "\n",
    "with open(fname, 'r', encoding= \"utf8\") as f:\n",
    "    for line in f:\n",
    "        words = line.split()\n",
    "\n",
    "        num_lines += line.count(\"\\n\")\n",
    "        num_words += len(words)\n",
    "        num_chars += len(line.replace(' ', ''))\n",
    "        \n",
    "a= num_lines\n",
    "b= num_words\n",
    "c= num_chars\n",
    "print(f\"lines= {a}\\nwords= {b}\\nchars={c}\")\n",
    "\n",
    "#373656"
   ]
  },
  {
   "cell_type": "code",
   "execution_count": 4,
   "metadata": {},
   "outputs": [
    {
     "data": {
      "text/plain": [
       "28538"
      ]
     },
     "execution_count": 4,
     "metadata": {},
     "output_type": "execute_result"
    }
   ],
   "source": [
    "# Count number of Unique Words\n",
    "\n",
    "#fname = \"test.ig.txt\"\n",
    "fname = \"train.ig.txt\"\n",
    "#fname= \"my_corpus.txt\"\n",
    "#fname= \"jw300.ig.txt\"\n",
    "\n",
    "\n",
    "\n",
    "file= open(fname, 'r', encoding= \"utf8\")\n",
    "file=file.read()\n",
    "file= file.split()\n",
    "file= set(file)\n",
    "#file[:100]\n",
    "len(file)\n",
    "    \n",
    "    "
   ]
  },
  {
   "cell_type": "code",
   "execution_count": 1,
   "metadata": {},
   "outputs": [],
   "source": [
    "#Use to split corpus by sentence \n",
    "\n",
    "import random\n",
    "\n",
    "# Open the input file and read its content\n",
    "with open('my_corpus.txt', 'r', encoding= \"utf8\") as file:\n",
    "#with open('jw300.ig.txt', 'r', encoding= \"utf8\") as file:\n",
    "#with open('test.ig.txt', 'r', encoding= \"utf8\") as file:\n",
    "\n",
    "    sentences = file.readlines()\n",
    "    #print (sentences[:1000])\n",
    "\n",
    "# Calculate the number of sentences to split\n",
    "num_sentences = len(sentences)\n",
    "num_to_split = int(num_sentences * 0.1)\n",
    "\n",
    "# Shuffle the sentences randomly\n",
    "random.shuffle(sentences)\n",
    "\n",
    "# Split the sentences\n",
    "split_sentences = sentences[:num_to_split]\n",
    "remaining_sentences = sentences[num_to_split:]\n",
    "\n",
    "# Write the split sentences to the output file\n",
    "#with open('test.main.txt', 'w',encoding=\"utf8\") as file:\n",
    "with open('test.ig.txt', 'w',encoding=\"utf8\") as file:\n",
    "    file.writelines(split_sentences)\n",
    "\n",
    "# Write the remaining sentences to the input file\n",
    "#with open('train.main.txt', 'w',encoding=\"utf8\") as file\n",
    "with open('train.ig.txt', 'w',encoding=\"utf8\") as file:\n",
    "    file.writelines(remaining_sentences)"
   ]
  },
  {
   "cell_type": "code",
   "execution_count": null,
   "metadata": {},
   "outputs": [],
   "source": []
  },
  {
   "cell_type": "code",
   "execution_count": null,
   "metadata": {},
   "outputs": [],
   "source": []
  }
 ],
 "metadata": {
  "kernelspec": {
   "display_name": "Python 3",
   "language": "python",
   "name": "python3"
  },
  "language_info": {
   "codemirror_mode": {
    "name": "ipython",
    "version": 3
   },
   "file_extension": ".py",
   "mimetype": "text/x-python",
   "name": "python",
   "nbconvert_exporter": "python",
   "pygments_lexer": "ipython3",
   "version": "3.8.5"
  }
 },
 "nbformat": 4,
 "nbformat_minor": 4
}
